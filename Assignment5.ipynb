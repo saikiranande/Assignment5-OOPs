{
 "cells": [
  {
   "cell_type": "code",
   "execution_count": 10,
   "id": "8f13b331",
   "metadata": {},
   "outputs": [],
   "source": [
    " class Calculation:\n",
    "        def __init__(self,x,n):\n",
    "            self.x = x\n",
    "            self.n = n\n",
    "        def __pow__(self):\n",
    "            return pow(self.x,self.n)"
   ]
  },
  {
   "cell_type": "code",
   "execution_count": 15,
   "id": "ba808278",
   "metadata": {},
   "outputs": [],
   "source": [
    "c=Calculation(10,5)"
   ]
  },
  {
   "cell_type": "code",
   "execution_count": 16,
   "id": "fd08fdd4",
   "metadata": {},
   "outputs": [
    {
     "data": {
      "text/plain": [
       "100000"
      ]
     },
     "execution_count": 16,
     "metadata": {},
     "output_type": "execute_result"
    }
   ],
   "source": [
    "c.__pow__()"
   ]
  },
  {
   "cell_type": "code",
   "execution_count": 19,
   "id": "95bd99dd",
   "metadata": {},
   "outputs": [],
   "source": [
    "c=Calculation(5,2)"
   ]
  },
  {
   "cell_type": "code",
   "execution_count": 20,
   "id": "96d6ad7a",
   "metadata": {},
   "outputs": [
    {
     "data": {
      "text/plain": [
       "25"
      ]
     },
     "execution_count": 20,
     "metadata": {},
     "output_type": "execute_result"
    }
   ],
   "source": [
    "c.__pow__()"
   ]
  },
  {
   "cell_type": "code",
   "execution_count": null,
   "id": "0b9ce4f8",
   "metadata": {},
   "outputs": [],
   "source": []
  }
 ],
 "metadata": {
  "kernelspec": {
   "display_name": "Python 3 (ipykernel)",
   "language": "python",
   "name": "python3"
  },
  "language_info": {
   "codemirror_mode": {
    "name": "ipython",
    "version": 3
   },
   "file_extension": ".py",
   "mimetype": "text/x-python",
   "name": "python",
   "nbconvert_exporter": "python",
   "pygments_lexer": "ipython3",
   "version": "3.9.7"
  }
 },
 "nbformat": 4,
 "nbformat_minor": 5
}
